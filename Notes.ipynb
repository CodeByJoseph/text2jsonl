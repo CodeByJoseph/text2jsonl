{
 "cells": [
  {
   "cell_type": "code",
   "execution_count": null,
   "id": "0222b946",
   "metadata": {
    "vscode": {
     "languageId": "plaintext"
    }
   },
   "outputs": [],
   "source": [
    "# Test to JSONL Pipeline\n",
    "\n",
    "\n",
    "- Alejandros script for scraping (HTML och Javascript)\n",
    "- Docling for scraping (PDF filar)\n",
    "- Avoid duplicate using content hashing\n",
    "- Semantic similarity analysis to compared scraped content with live content \n",
    "- Real time logging in the STremalit UI\n"
   ]
  },
  {
   "cell_type": "code",
   "execution_count": null,
   "id": "45534672",
   "metadata": {
    "vscode": {
     "languageId": "plaintext"
    }
   },
   "outputs": [],
   "source": [
    "# Semantic similarity analysis\n",
    "\n",
    "- sentence-transformers with all-MiniLM-L6-v2 model\n",
    "- Computes cosine similarity\n",
    "    = a measure of similarity between two non-zero vectors in an inner product space\n",
    "\n",
    "- uses NLP to understand contextual and conceptual relationship between text\n",
    "\n",
    "\n",
    "# Live Data vs Scraped Data\n",
    "\n",
    "- live data extracts using the fetch_rendered_text function in utils.py\n",
    "- scrpaed data extracts using scrapee_url in meta_utils.py\n",
    "\n",
    "- Fetched directly from the website at runtime is compared to list of JSON objects with structured fields\n",
    "\n"
   ]
  },
  {
   "cell_type": "code",
   "execution_count": null,
   "id": "10eb07a9",
   "metadata": {
    "vscode": {
     "languageId": "plaintext"
    }
   },
   "outputs": [],
   "source": [
    "# Logging\n",
    "\n",
    "- real time logs using contextlib.redirect_stdout to a StringIO buffer\n",
    "- UI updates using st.empty().code(log_buffer.getvalue())\n",
    "- Steps logged: Directory setup, file checks, URL processing etc.\n"
   ]
  },
  {
   "cell_type": "code",
   "execution_count": null,
   "id": "e9c377d3",
   "metadata": {
    "vscode": {
     "languageId": "plaintext"
    }
   },
   "outputs": [],
   "source": [
    "# Error Handling\n",
    "\n",
    "- Invalid URLs\n",
    "- Download Failures\n",
    "- JSON Errors\n"
   ]
  },
  {
   "cell_type": "code",
   "execution_count": null,
   "id": "07aff6e5",
   "metadata": {
    "vscode": {
     "languageId": "plaintext"
    }
   },
   "outputs": [],
   "source": [
    "# Duplicate Prevention\n",
    "\n",
    "- Uses MD5 hasing on the combination of content and orgin_link\n",
    "    - Loads existing hashes from .jsonl file\n",
    "    - skips sections with matching hashes or URLs to avoid duplicates\n",
    "    - updates the hash set and writes new section to the file\n",
    "\n",
    "- "
   ]
  },
  {
   "cell_type": "code",
   "execution_count": null,
   "id": "548ea4c0",
   "metadata": {
    "vscode": {
     "languageId": "plaintext"
    }
   },
   "outputs": [],
   "source": [
    "# Web Scraping\n",
    " \n",
    "- Selenium\n",
    "    - Configures a headless Chrome browser with options\n",
    "    - Expands accordion elements using JavaScript to access hidden content\n",
    "    - Wait for page load with WebDriverWait and content rendering with time.sleep\n",
    "\n",
    "- BeautifulSoup\n",
    "    - Parses HTML to extract main content using flexible selectors e.g. main%main, div#content\n",
    "    - Removes noise e.g. footers, sidebarss, using predefined selectors\n",
    "    - Extracts sections based on headings, e.g. h1, h2, etc., and content containers e.g. .paragraph, .accordion_item"
   ]
  },
  {
   "cell_type": "code",
   "execution_count": null,
   "id": "1cf8f456",
   "metadata": {
    "vscode": {
     "languageId": "plaintext"
    }
   },
   "outputs": [],
   "source": [
    "# PDF Processsing\n",
    "\n",
    "- Docling\n",
    "    Converts PDFs to markdown using DocumentConverter.Converts\n",
    "- Markdown Parsing\n",
    "    - Splits markdown into sections based on headers ##, ###, or defaults to \"No Heading\" if none found\n",
    "- External Links\n",
    "    - Extracts links using regex re.findall for both Markdown [text](url) and plain URLs\n",
    "\n",
    "\n",
    "- PDFs are downloaded to a temporary directory using requests before the docling converts it to markdown\n",
    "- content fields from all sections are concatenated into a single string for similarity analysis\n"
   ]
  },
  {
   "cell_type": "code",
   "execution_count": null,
   "id": "77414c6b",
   "metadata": {
    "vscode": {
     "languageId": "plaintext"
    }
   },
   "outputs": [],
   "source": [
    "# Caching\n",
    "\n",
    "- caches sentence transformers model to avoid reloading "
   ]
  },
  {
   "cell_type": "code",
   "execution_count": null,
   "id": "db02f4ad",
   "metadata": {
    "vscode": {
     "languageId": "plaintext"
    }
   },
   "outputs": [],
   "source": [
    "# Workflow Diagram\n",
    "\n",
    "\n",
    "User Input (URLs, Database Name)\n",
    "    ↓\n",
    "Validate URLs\n",
    "    ↓\n",
    "Separate Web URLs and PDF URLs\n",
    "    ↓\n",
    "[Web URLs]                  [PDF URLs]\n",
    "    ↓                           ↓\n",
    "scrape_urls_and_save    Download to Temp Dir\n",
    "    ↓                           ↓\n",
    "scrape_url (Selenium)    process_all_pdfs (Docling)\n",
    "    ↓                           ↓\n",
    "Parse HTML (BeautifulSoup)  Parse Markdown\n",
    "    ↓                           ↓\n",
    "Extract Sections            Extract Sections\n",
    "    ↓                           ↓\n",
    "Semantic Similarity         Semantic Similarity\n",
    "    ↓                           ↓\n",
    "Save to .jsonl (Avoid Duplicates)\n",
    "    ↓\n",
    "Display Logs and Similarity Results"
   ]
  },
  {
   "cell_type": "code",
   "execution_count": null,
   "id": "f2b5186b",
   "metadata": {
    "vscode": {
     "languageId": "plaintext"
    }
   },
   "outputs": [],
   "source": [
    "# Limitations\n",
    "\n",
    "- Site-specific scpraing\n",
    "    - scrape_url is optimized for sites with accordion-style content e.g. university of gothenburg\n",
    "      other site structures may require modifying selectors in meta_utils\n",
    "- PDF Restrictions\n",
    "    - assumes PDFs are publicly accessible and not password protected\n",
    "    "
   ]
  }
 ],
 "metadata": {
  "language_info": {
   "name": "python"
  }
 },
 "nbformat": 4,
 "nbformat_minor": 5
}
